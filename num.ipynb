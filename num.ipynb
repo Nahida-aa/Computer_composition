{
 "cells": [
  {
   "cell_type": "code",
   "execution_count": 5,
   "metadata": {},
   "outputs": [
    {
     "name": "stdout",
     "output_type": "stream",
     "text": [
      "初始猜测值： [1, 1, 1]\n",
      "解为：x = -1.00, y = 1.41, z = 0.71\n",
      "-----\n",
      "初始猜测值： [-1, -1, -1]\n",
      "解为：x = -1.00, y = -1.41, z = -0.71\n",
      "-----\n",
      "初始猜测值： [2, 2, 2]\n",
      "解为：x = 1.50, y = 0.87, z = -0.29\n",
      "-----\n",
      "初始猜测值： [2, -2, -2]\n",
      "解为：x = 1.50, y = -0.87, z = 0.29\n",
      "-----\n"
     ]
    }
   ],
   "source": [
    "from scipy.optimize import fsolve\n",
    "import numpy as np\n",
    "\n",
    "# 定义方程组\n",
    "def equations(vars):\n",
    "    x, y, z = vars\n",
    "    eq1 = y + 2*x*z\n",
    "    eq2 = x - 1 + 2*y*z\n",
    "    eq3 = x**2 + y**2 - 3\n",
    "    return [eq1, eq2, eq3]\n",
    "\n",
    "# 不同的初始猜测值\n",
    "initial_guesses = [[1, 1, 1], [-1, -1, -1], [2, 2, 2], [2, -2, -2]]\n",
    "\n",
    "# 对每个初始猜测值求解\n",
    "for guess in initial_guesses:\n",
    "    solution = fsolve(equations, guess)\n",
    "    print(\"初始猜测值：\", guess)\n",
    "    print(\"解为：x = {:.2f}, y = {:.2f}, z = {:.2f}\".format(*solution))\n",
    "    print(\"-----\")"
   ]
  }
 ],
 "metadata": {
  "kernelspec": {
   "display_name": "ai_310",
   "language": "python",
   "name": "python3"
  },
  "language_info": {
   "codemirror_mode": {
    "name": "ipython",
    "version": 3
   },
   "file_extension": ".py",
   "mimetype": "text/x-python",
   "name": "python",
   "nbconvert_exporter": "python",
   "pygments_lexer": "ipython3",
   "version": "3.10.13"
  }
 },
 "nbformat": 4,
 "nbformat_minor": 2
}
